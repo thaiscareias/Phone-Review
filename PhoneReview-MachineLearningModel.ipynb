{
 "cells": [
  {
   "cell_type": "code",
   "execution_count": 1,
   "metadata": {},
   "outputs": [
    {
     "name": "stdout",
     "output_type": "stream",
     "text": [
      "Requirement already satisfied: spacy in c:\\users\\thais\\anaconda3\\lib\\site-packages (3.0.3)\n",
      "Requirement already satisfied: blis<0.8.0,>=0.4.0 in c:\\users\\thais\\anaconda3\\lib\\site-packages (from spacy) (0.7.4)\n",
      "Requirement already satisfied: pathy in c:\\users\\thais\\anaconda3\\lib\\site-packages (from spacy) (0.3.6)\n",
      "Requirement already satisfied: tqdm<5.0.0,>=4.38.0 in c:\\users\\thais\\anaconda3\\lib\\site-packages (from spacy) (4.50.2)\n",
      "Requirement already satisfied: jinja2 in c:\\users\\thais\\anaconda3\\lib\\site-packages (from spacy) (2.11.2)\n",
      "Requirement already satisfied: murmurhash<1.1.0,>=0.28.0 in c:\\users\\thais\\anaconda3\\lib\\site-packages (from spacy) (1.0.5)\n",
      "Requirement already satisfied: spacy-legacy<3.1.0,>=3.0.0 in c:\\users\\thais\\anaconda3\\lib\\site-packages (from spacy) (3.0.1)\n",
      "Requirement already satisfied: packaging>=20.0 in c:\\users\\thais\\anaconda3\\lib\\site-packages (from spacy) (20.4)\n",
      "Requirement already satisfied: typer<0.4.0,>=0.3.0 in c:\\users\\thais\\anaconda3\\lib\\site-packages (from spacy) (0.3.2)\n",
      "Requirement already satisfied: pydantic<1.8.0,>=1.7.1 in c:\\users\\thais\\anaconda3\\lib\\site-packages (from spacy) (1.7.3)\n",
      "Requirement already satisfied: setuptools in c:\\users\\thais\\anaconda3\\lib\\site-packages (from spacy) (50.3.1.post20201107)\n",
      "Requirement already satisfied: thinc<8.1.0,>=8.0.0 in c:\\users\\thais\\anaconda3\\lib\\site-packages (from spacy) (8.0.1)\n",
      "Requirement already satisfied: requests<3.0.0,>=2.13.0 in c:\\users\\thais\\anaconda3\\lib\\site-packages (from spacy) (2.24.0)\n",
      "Requirement already satisfied: srsly<3.0.0,>=2.4.0 in c:\\users\\thais\\anaconda3\\lib\\site-packages (from spacy) (2.4.0)\n",
      "Requirement already satisfied: numpy>=1.15.0 in c:\\users\\thais\\anaconda3\\lib\\site-packages (from spacy) (1.19.2)\n",
      "Requirement already satisfied: wasabi<1.1.0,>=0.8.1 in c:\\users\\thais\\anaconda3\\lib\\site-packages (from spacy) (0.8.2)\n",
      "Requirement already satisfied: cymem<2.1.0,>=2.0.2 in c:\\users\\thais\\anaconda3\\lib\\site-packages (from spacy) (2.0.5)\n",
      "Requirement already satisfied: preshed<3.1.0,>=3.0.2 in c:\\users\\thais\\anaconda3\\lib\\site-packages (from spacy) (3.0.5)\n",
      "Requirement already satisfied: catalogue<2.1.0,>=2.0.1 in c:\\users\\thais\\anaconda3\\lib\\site-packages (from spacy) (2.0.1)\n",
      "Requirement already satisfied: smart-open<4.0.0,>=2.2.0 in c:\\users\\thais\\anaconda3\\lib\\site-packages (from pathy->spacy) (3.0.0)\n",
      "Requirement already satisfied: MarkupSafe>=0.23 in c:\\users\\thais\\anaconda3\\lib\\site-packages (from jinja2->spacy) (1.1.1)\n",
      "Requirement already satisfied: pyparsing>=2.0.2 in c:\\users\\thais\\anaconda3\\lib\\site-packages (from packaging>=20.0->spacy) (2.4.7)\n",
      "Requirement already satisfied: six in c:\\users\\thais\\anaconda3\\lib\\site-packages (from packaging>=20.0->spacy) (1.15.0)\n",
      "Requirement already satisfied: click<7.2.0,>=7.1.1 in c:\\users\\thais\\anaconda3\\lib\\site-packages (from typer<0.4.0,>=0.3.0->spacy) (7.1.2)\n",
      "Requirement already satisfied: idna<3,>=2.5 in c:\\users\\thais\\anaconda3\\lib\\site-packages (from requests<3.0.0,>=2.13.0->spacy) (2.10)\n",
      "Requirement already satisfied: certifi>=2017.4.17 in c:\\users\\thais\\anaconda3\\lib\\site-packages (from requests<3.0.0,>=2.13.0->spacy) (2020.6.20)\n",
      "Requirement already satisfied: chardet<4,>=3.0.2 in c:\\users\\thais\\anaconda3\\lib\\site-packages (from requests<3.0.0,>=2.13.0->spacy) (3.0.4)\n",
      "Requirement already satisfied: urllib3!=1.25.0,!=1.25.1,<1.26,>=1.21.1 in c:\\users\\thais\\anaconda3\\lib\\site-packages (from requests<3.0.0,>=2.13.0->spacy) (1.25.11)\n",
      "Note: you may need to restart the kernel to use updated packages.\n"
     ]
    }
   ],
   "source": [
    "pip install spacy"
   ]
  },
  {
   "cell_type": "code",
   "execution_count": 2,
   "metadata": {},
   "outputs": [
    {
     "name": "stdout",
     "output_type": "stream",
     "text": [
      "Requirement already satisfied: en-core-web-sm==3.0.0 from https://github.com/explosion/spacy-models/releases/download/en_core_web_sm-3.0.0/en_core_web_sm-3.0.0-py3-none-any.whl#egg=en_core_web_sm==3.0.0 in c:\\users\\thais\\anaconda3\\lib\\site-packages (3.0.0)\n",
      "Requirement already satisfied: spacy<3.1.0,>=3.0.0 in c:\\users\\thais\\anaconda3\\lib\\site-packages (from en-core-web-sm==3.0.0) (3.0.3)\n",
      "Requirement already satisfied: catalogue<2.1.0,>=2.0.1 in c:\\users\\thais\\anaconda3\\lib\\site-packages (from spacy<3.1.0,>=3.0.0->en-core-web-sm==3.0.0) (2.0.1)\n",
      "Requirement already satisfied: packaging>=20.0 in c:\\users\\thais\\anaconda3\\lib\\site-packages (from spacy<3.1.0,>=3.0.0->en-core-web-sm==3.0.0) (20.4)\n",
      "Requirement already satisfied: typer<0.4.0,>=0.3.0 in c:\\users\\thais\\anaconda3\\lib\\site-packages (from spacy<3.1.0,>=3.0.0->en-core-web-sm==3.0.0) (0.3.2)\n",
      "Requirement already satisfied: blis<0.8.0,>=0.4.0 in c:\\users\\thais\\anaconda3\\lib\\site-packages (from spacy<3.1.0,>=3.0.0->en-core-web-sm==3.0.0) (0.7.4)\n",
      "Requirement already satisfied: thinc<8.1.0,>=8.0.0 in c:\\users\\thais\\anaconda3\\lib\\site-packages (from spacy<3.1.0,>=3.0.0->en-core-web-sm==3.0.0) (8.0.1)\n",
      "Requirement already satisfied: preshed<3.1.0,>=3.0.2 in c:\\users\\thais\\anaconda3\\lib\\site-packages (from spacy<3.1.0,>=3.0.0->en-core-web-sm==3.0.0) (3.0.5)\n",
      "Requirement already satisfied: tqdm<5.0.0,>=4.38.0 in c:\\users\\thais\\anaconda3\\lib\\site-packages (from spacy<3.1.0,>=3.0.0->en-core-web-sm==3.0.0) (4.50.2)\n",
      "Requirement already satisfied: pydantic<1.8.0,>=1.7.1 in c:\\users\\thais\\anaconda3\\lib\\site-packages (from spacy<3.1.0,>=3.0.0->en-core-web-sm==3.0.0) (1.7.3)\n",
      "Requirement already satisfied: setuptools in c:\\users\\thais\\anaconda3\\lib\\site-packages (from spacy<3.1.0,>=3.0.0->en-core-web-sm==3.0.0) (50.3.1.post20201107)\n",
      "Requirement already satisfied: jinja2 in c:\\users\\thais\\anaconda3\\lib\\site-packages (from spacy<3.1.0,>=3.0.0->en-core-web-sm==3.0.0) (2.11.2)\n",
      "Requirement already satisfied: pathy in c:\\users\\thais\\anaconda3\\lib\\site-packages (from spacy<3.1.0,>=3.0.0->en-core-web-sm==3.0.0) (0.3.6)\n",
      "Requirement already satisfied: numpy>=1.15.0 in c:\\users\\thais\\anaconda3\\lib\\site-packages (from spacy<3.1.0,>=3.0.0->en-core-web-sm==3.0.0) (1.19.2)\n",
      "Requirement already satisfied: cymem<2.1.0,>=2.0.2 in c:\\users\\thais\\anaconda3\\lib\\site-packages (from spacy<3.1.0,>=3.0.0->en-core-web-sm==3.0.0) (2.0.5)\n",
      "Requirement already satisfied: srsly<3.0.0,>=2.4.0 in c:\\users\\thais\\anaconda3\\lib\\site-packages (from spacy<3.1.0,>=3.0.0->en-core-web-sm==3.0.0) (2.4.0)\n",
      "Requirement already satisfied: wasabi<1.1.0,>=0.8.1 in c:\\users\\thais\\anaconda3\\lib\\site-packages (from spacy<3.1.0,>=3.0.0->en-core-web-sm==3.0.0) (0.8.2)\n",
      "Requirement already satisfied: requests<3.0.0,>=2.13.0 in c:\\users\\thais\\anaconda3\\lib\\site-packages (from spacy<3.1.0,>=3.0.0->en-core-web-sm==3.0.0) (2.24.0)\n",
      "Requirement already satisfied: spacy-legacy<3.1.0,>=3.0.0 in c:\\users\\thais\\anaconda3\\lib\\site-packages (from spacy<3.1.0,>=3.0.0->en-core-web-sm==3.0.0) (3.0.1)\n",
      "Requirement already satisfied: murmurhash<1.1.0,>=0.28.0 in c:\\users\\thais\\anaconda3\\lib\\site-packages (from spacy<3.1.0,>=3.0.0->en-core-web-sm==3.0.0) (1.0.5)\n",
      "Requirement already satisfied: pyparsing>=2.0.2 in c:\\users\\thais\\anaconda3\\lib\\site-packages (from packaging>=20.0->spacy<3.1.0,>=3.0.0->en-core-web-sm==3.0.0) (2.4.7)\n",
      "Requirement already satisfied: six in c:\\users\\thais\\anaconda3\\lib\\site-packages (from packaging>=20.0->spacy<3.1.0,>=3.0.0->en-core-web-sm==3.0.0) (1.15.0)\n",
      "Requirement already satisfied: click<7.2.0,>=7.1.1 in c:\\users\\thais\\anaconda3\\lib\\site-packages (from typer<0.4.0,>=0.3.0->spacy<3.1.0,>=3.0.0->en-core-web-sm==3.0.0) (7.1.2)\n",
      "Requirement already satisfied: MarkupSafe>=0.23 in c:\\users\\thais\\anaconda3\\lib\\site-packages (from jinja2->spacy<3.1.0,>=3.0.0->en-core-web-sm==3.0.0) (1.1.1)\n",
      "Requirement already satisfied: smart-open<4.0.0,>=2.2.0 in c:\\users\\thais\\anaconda3\\lib\\site-packages (from pathy->spacy<3.1.0,>=3.0.0->en-core-web-sm==3.0.0) (3.0.0)\n",
      "Requirement already satisfied: certifi>=2017.4.17 in c:\\users\\thais\\anaconda3\\lib\\site-packages (from requests<3.0.0,>=2.13.0->spacy<3.1.0,>=3.0.0->en-core-web-sm==3.0.0) (2020.6.20)\n",
      "Requirement already satisfied: idna<3,>=2.5 in c:\\users\\thais\\anaconda3\\lib\\site-packages (from requests<3.0.0,>=2.13.0->spacy<3.1.0,>=3.0.0->en-core-web-sm==3.0.0) (2.10)\n",
      "Requirement already satisfied: chardet<4,>=3.0.2 in c:\\users\\thais\\anaconda3\\lib\\site-packages (from requests<3.0.0,>=2.13.0->spacy<3.1.0,>=3.0.0->en-core-web-sm==3.0.0) (3.0.4)\n",
      "Requirement already satisfied: urllib3!=1.25.0,!=1.25.1,<1.26,>=1.21.1 in c:\\users\\thais\\anaconda3\\lib\\site-packages (from requests<3.0.0,>=2.13.0->spacy<3.1.0,>=3.0.0->en-core-web-sm==3.0.0) (1.25.11)\n",
      "[+] Download and installation successful\n",
      "You can now load the package via spacy.load('en_core_web_sm')\n"
     ]
    }
   ],
   "source": [
    "!python -m spacy download en_core_web_sm"
   ]
  },
  {
   "cell_type": "code",
   "execution_count": 3,
   "metadata": {},
   "outputs": [],
   "source": [
    "import dask.dataframe as dd\n",
    "from dask.diagnostics import ProgressBar\n",
    "from matplotlib import pyplot as plt\n",
    "\n",
    "df_review = dd.read_csv(r'C:\\Users\\thais\\Google Drive\\Ciencia de dados e Big data\\13.TCC\\archive\\20191226-reviews.csv')\n",
    "df_item = dd.read_csv(r'C:\\Users\\thais\\Google Drive\\Ciencia de dados e Big data\\13.TCC\\archive\\20191226-items.csv')"
   ]
  },
  {
   "cell_type": "code",
   "execution_count": 4,
   "metadata": {},
   "outputs": [],
   "source": [
    "df=df_review.merge(df_item[['asin', 'brand']])\n",
    "df=df.drop(['name','date','verified','title','helpfulVotes'], axis=1)\n",
    "df=df.dropna(subset=['rating', 'body', 'brand'])"
   ]
  },
  {
   "cell_type": "code",
   "execution_count": 5,
   "metadata": {},
   "outputs": [
    {
     "name": "stderr",
     "output_type": "stream",
     "text": [
      "[nltk_data] Downloading package stopwords to\n",
      "[nltk_data]     C:\\Users\\thais\\AppData\\Roaming\\nltk_data...\n",
      "[nltk_data]   Package stopwords is already up-to-date!\n"
     ]
    }
   ],
   "source": [
    "import re\n",
    "import spacy\n",
    "import nltk\n",
    "from nltk.corpus import stopwords\n",
    "nltk.download('stopwords')\n",
    "stop_words = stopwords.words(\"english\")\n",
    "nlp = spacy.load(\"en_core_web_sm\")\n",
    "\n",
    "def lemmatize(text, nlp=nlp):  \n",
    "    doc = nlp(\" \".join(text))\n",
    "    lemmatized = [token.lemma_ for token in doc]\n",
    "    \n",
    "    return lemmatized\n",
    "\n",
    "def tokenize(text):\n",
    "    tokens = nltk.word_tokenize(text)\n",
    "    return list(\n",
    "        filter(lambda word: word.isalnum(), tokens)\n",
    "    )\n",
    "def remove_stopwords(words):\n",
    "    filtered = filter(lambda word: word not in stop_words, words)\n",
    "    return list(filtered)\n",
    "\n",
    "def remove_newlinechars(text):\n",
    "    return re.sub(r'\\s+', ' ', text)\n",
    "\n",
    "def remove_numbers(text):\n",
    "    return re.sub(r'\\d+', '', text) "
   ]
  },
  {
   "cell_type": "code",
   "execution_count": 6,
   "metadata": {},
   "outputs": [],
   "source": [
    "from dask.diagnostics import ProgressBar\n",
    "with ProgressBar():\n",
    "    df['cleaned_text']=df['body'].map(\n",
    "        lambda text:str(text).lower()).map(\n",
    "        remove_numbers).map(\n",
    "        remove_newlinechars).map(\n",
    "        tokenize).map(\n",
    "        remove_stopwords).map(\n",
    "        lemmatize).map(\n",
    "        ' '.join)"
   ]
  },
  {
   "cell_type": "code",
   "execution_count": 7,
   "metadata": {},
   "outputs": [],
   "source": [
    "df['opinion']=df['rating'].apply(lambda x: 'positive' if x >= 3 else 'negative', meta=float)"
   ]
  },
  {
   "cell_type": "code",
   "execution_count": 8,
   "metadata": {},
   "outputs": [
    {
     "name": "stdout",
     "output_type": "stream",
     "text": [
      "[########################################] | 100% Completed | 22min 23.8s\n",
      "[########################################] | 100% Completed | 17min 17.8s\n"
     ]
    }
   ],
   "source": [
    "from sklearn.model_selection import train_test_split\n",
    "from sklearn.metrics import confusion_matrix,classification_report\n",
    "from sklearn.feature_extraction.text import TfidfVectorizer\n",
    "from sklearn.svm import LinearSVC\n",
    "x = df['cleaned_text']\n",
    "y = df['opinion']\n",
    "\n",
    "with ProgressBar():\n",
    "    X_train, X_test, y_train, y_test = train_test_split(\n",
    "        x.compute(),y.compute(),test_size=0.33,random_state=42)"
   ]
  },
  {
   "cell_type": "code",
   "execution_count": 16,
   "metadata": {},
   "outputs": [
    {
     "name": "stdout",
     "output_type": "stream",
     "text": [
      "              precision    recall  f1-score   support\n",
      "\n",
      "    negative       0.78      0.74      0.76      5397\n",
      "    positive       0.92      0.93      0.93     16966\n",
      "\n",
      "    accuracy                           0.89     22363\n",
      "   macro avg       0.85      0.83      0.84     22363\n",
      "weighted avg       0.88      0.89      0.89     22363\n",
      "\n"
     ]
    }
   ],
   "source": [
    "from sklearn.svm import LinearSVC\n",
    "from sklearn.pipeline import Pipeline\n",
    "\n",
    "LinearSVC_text = Pipeline([('tfidf', TfidfVectorizer()),(\n",
    "    'clf', LinearSVC())])\n",
    "LinearSVC_text.fit(X_train,y_train)\n",
    "LinearSVC_predictions = LinearSVC_text.predict(X_test)\n",
    "LinearSVC_cm = confusion_matrix(y_test,LinearSVC_predictions)\n",
    "print(classification_report(y_test,LinearSVC_predictions))"
   ]
  },
  {
   "cell_type": "code",
   "execution_count": 18,
   "metadata": {},
   "outputs": [
    {
     "name": "stdout",
     "output_type": "stream",
     "text": [
      "              precision    recall  f1-score   support\n",
      "\n",
      "    negative       0.90      0.38      0.54      5397\n",
      "    positive       0.83      0.99      0.90     16966\n",
      "\n",
      "    accuracy                           0.84     22363\n",
      "   macro avg       0.86      0.68      0.72     22363\n",
      "weighted avg       0.85      0.84      0.81     22363\n",
      "\n"
     ]
    }
   ],
   "source": [
    "from sklearn.naive_bayes import MultinomialNB\n",
    "\n",
    "MultinomialNB_text = Pipeline([('tfidf',TfidfVectorizer()),(\n",
    "    'clf',MultinomialNB())])\n",
    "MultinomialNB_text.fit(X_train,y_train)\n",
    "MultinomialNB_predictions = MultinomialNB_text.predict(X_test)\n",
    "cm = confusion_matrix(y_test,MultinomialNB_predictions)\n",
    "print(classification_report(y_test,MultinomialNB_predictions))"
   ]
  },
  {
   "cell_type": "code",
   "execution_count": 20,
   "metadata": {},
   "outputs": [
    {
     "name": "stdout",
     "output_type": "stream",
     "text": [
      "              precision    recall  f1-score   support\n",
      "\n",
      "    negative       0.85      0.64      0.73      5397\n",
      "    positive       0.89      0.96      0.93     16966\n",
      "\n",
      "    accuracy                           0.89     22363\n",
      "   macro avg       0.87      0.80      0.83     22363\n",
      "weighted avg       0.88      0.89      0.88     22363\n",
      "\n"
     ]
    }
   ],
   "source": [
    "from sklearn.ensemble import RandomForestClassifier\n",
    "\n",
    "RandomForest_text = Pipeline([('tfidf', TfidfVectorizer()),(\n",
    "    'clf', RandomForestClassifier())])\n",
    "RandomForest_text.fit(X_train,y_train)\n",
    "RandomForest_predictions = RandomForest_text.predict(X_test)\n",
    "RandomForest_cm = confusion_matrix(y_test,RandomForest_predictions)\n",
    "print(classification_report(y_test,RandomForest_predictions))"
   ]
  },
  {
   "cell_type": "code",
   "execution_count": 21,
   "metadata": {},
   "outputs": [
    {
     "name": "stdout",
     "output_type": "stream",
     "text": [
      "              precision    recall  f1-score   support\n",
      "\n",
      "    negative       0.81      0.71      0.76      5397\n",
      "    positive       0.91      0.95      0.93     16966\n",
      "\n",
      "    accuracy                           0.89     22363\n",
      "   macro avg       0.86      0.83      0.84     22363\n",
      "weighted avg       0.89      0.89      0.89     22363\n",
      "\n"
     ]
    }
   ],
   "source": [
    "from sklearn.linear_model import LogisticRegression\n",
    "\n",
    "LogisticRegression_text = Pipeline([('tfidf',TfidfVectorizer()),(\n",
    "    'clf',LogisticRegression(max_iter=200))])\n",
    "LogisticRegression_text.fit(X_train,y_train)\n",
    "LogisticRegression_predictions = LogisticRegression_text.predict(X_test)\n",
    "LogisticRegression_cm = confusion_matrix(y_test,LogisticRegression_predictions)\n",
    "print(classification_report(y_test,LogisticRegression_predictions))"
   ]
  },
  {
   "cell_type": "code",
   "execution_count": 24,
   "metadata": {},
   "outputs": [
    {
     "name": "stdout",
     "output_type": "stream",
     "text": [
      "Fitting 2 folds for each of 54 candidates, totalling 108 fits\n",
      "Best parameters set:\n",
      "[('tfidf', TfidfVectorizer(max_df=0.25, ngram_range=(1, 2))), ('clf', OneVsRestClassifier(estimator=LinearSVC(C=1)))]\n",
      "Applying best classifier on test data:\n",
      "              precision    recall  f1-score   support\n",
      "\n",
      "    negative       0.81      0.77      0.79      5397\n",
      "    positive       0.93      0.94      0.93     16966\n",
      "\n",
      "    accuracy                           0.90     22363\n",
      "   macro avg       0.87      0.86      0.86     22363\n",
      "weighted avg       0.90      0.90      0.90     22363\n",
      "\n"
     ]
    }
   ],
   "source": [
    "\n",
    "from sklearn.svm import LinearSVC\n",
    "from sklearn.model_selection import GridSearchCV\n",
    "from sklearn.multiclass import OneVsRestClassifier\n",
    "from sklearn.pipeline import Pipeline\n",
    "\n",
    "pipeline = Pipeline([('tfidf', TfidfVectorizer()),(\n",
    "    'clf', OneVsRestClassifier(LinearSVC())),])\n",
    "\n",
    "parameters = {\n",
    "    'tfidf__max_df': (0.25, 0.5, 0.75),\n",
    "    'tfidf__ngram_range': [(1, 1), (1, 2), (1, 3)],\n",
    "    'clf__estimator__C': [0.01, 0.1, 1],\n",
    "    'clf__estimator__class_weight': ['balanced', None],\n",
    "}\n",
    "\n",
    "grid_search_tune = GridSearchCV(\n",
    "    pipeline, parameters, cv=2, n_jobs=2, verbose=3)\n",
    "grid_search_tune.fit(X_train, y_train)\n",
    "\n",
    "print(\"Best parameters set:\")\n",
    "print (grid_search_tune.best_estimator_.steps)\n",
    "\n",
    "print (\"Applying best classifier on test data:\")\n",
    "best_clf = grid_search_tune.best_estimator_\n",
    "predictions = best_clf.predict(X_test)\n",
    "\n",
    "print (classification_report(y_test, predictions))"
   ]
  },
  {
   "cell_type": "code",
   "execution_count": 26,
   "metadata": {},
   "outputs": [
    {
     "name": "stdout",
     "output_type": "stream",
     "text": [
      "Fitting 2 folds for each of 54 candidates, totalling 108 fits\n",
      "Best parameters set:\n",
      "[('tfidf', TfidfVectorizer(max_df=0.25)), ('clf', OneVsRestClassifier(estimator=LogisticRegression(C=1, solver='sag')))]\n",
      "Applying best classifier on test data:\n",
      "              precision    recall  f1-score   support\n",
      "\n",
      "    negative       0.81      0.71      0.76      5397\n",
      "    positive       0.91      0.95      0.93     16966\n",
      "\n",
      "    accuracy                           0.89     22363\n",
      "   macro avg       0.86      0.83      0.84     22363\n",
      "weighted avg       0.89      0.89      0.89     22363\n",
      "\n"
     ]
    }
   ],
   "source": [
    "pipeline = Pipeline([\n",
    "    ('tfidf', TfidfVectorizer()),\n",
    "    ('clf', OneVsRestClassifier(LogisticRegression(solver='sag'))),\n",
    "])\n",
    "parameters = {\n",
    "    'tfidf__max_df': (0.25, 0.5, 0.75),\n",
    "    'tfidf__ngram_range': [(1, 1), (1, 2), (1, 3)],\n",
    "    \"clf__estimator__C\": [0.01, 0.1, 1],\n",
    "    \"clf__estimator__class_weight\": ['balanced', None],\n",
    "}\n",
    "\n",
    "grid_search_tune = GridSearchCV(\n",
    "    pipeline, parameters, cv=2, n_jobs=2, verbose=3)\n",
    "grid_search_tune.fit(X_train, y_train)\n",
    "\n",
    "print(\"Best parameters set:\")\n",
    "print (grid_search_tune.best_estimator_.steps)\n",
    "\n",
    "print (\"Applying best classifier on test data:\")\n",
    "best_clf = grid_search_tune.best_estimator_\n",
    "predictions = best_clf.predict(X_test)\n",
    "\n",
    "print (classification_report(y_test, predictions))"
   ]
  },
  {
   "cell_type": "code",
   "execution_count": null,
   "metadata": {},
   "outputs": [],
   "source": []
  }
 ],
 "metadata": {
  "kernelspec": {
   "display_name": "Python 3",
   "language": "python",
   "name": "python3"
  },
  "language_info": {
   "codemirror_mode": {
    "name": "ipython",
    "version": 3
   },
   "file_extension": ".py",
   "mimetype": "text/x-python",
   "name": "python",
   "nbconvert_exporter": "python",
   "pygments_lexer": "ipython3",
   "version": "3.8.5"
  }
 },
 "nbformat": 4,
 "nbformat_minor": 4
}
